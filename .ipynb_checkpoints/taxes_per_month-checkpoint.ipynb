{
 "cells": [
  {
   "cell_type": "code",
   "execution_count": 103,
   "metadata": {
    "collapsed": true
   },
   "outputs": [],
   "source": [
    "import sys\n",
    "sys.path.append(\"/anaconda/lib/python2.7/site-packages\")\n",
    "\n",
    "import numpy as np\n",
    "import pandas as pd\n",
    "import os\n",
    "import matplotlib\n",
    "import matplotlib.pyplot as plt\n",
    "from mpl_toolkits.mplot3d import Axes3D\n",
    "import matplotlib.cm as cmx\n",
    "import matplotlib.colors as colors\n",
    "%matplotlib inline"
   ]
  },
  {
   "cell_type": "markdown",
   "metadata": {},
   "source": [
    "#  CALCULATING TOTAL TAXES FOR 2015-16 FISCAL YEAR"
   ]
  },
  {
   "cell_type": "code",
   "execution_count": null,
   "metadata": {
    "collapsed": true
   },
   "outputs": [],
   "source": [
    "# we have most jsons, so we can just look at their json files\n",
    "wanted_jsons = [\"2015-04-01\", \"2015-05-01\", \"2015-06-01\", \"2015-08-01\", \"2015-09-01\", \"2015-10-01\", \"2015-11-01\",\\\n",
    "                \"2015-12-02\", \"2016-01-01\", \"2016-02-02\", \"2016-04-03\", \"2016-05-02\", \"2016-06-02\"]\n",
    "\n",
    "# two files are missing, so we'll take the means of the months around them\n",
    "missing_months_dict = {}\n",
    "missing_months_dict[\"2015-07-01\"] = (\"2015-06-01\", \"2015-08-01\")\n",
    "missing_months_dict[\"2016-03-01\"] = (\"2016-02-02\", \"2016-04-03\")"
   ]
  },
  {
   "cell_type": "code",
   "execution_count": 33,
   "metadata": {
    "collapsed": false
   },
   "outputs": [],
   "source": [
    "# for the data we do have, sum over categories for city and state\n",
    "city_taxes_by_date = {}\n",
    "state_taxes_by_date = {}\n",
    "for wanted in wanted_jsons:\n",
    "    df = pd.read_json(\"data/json_files_by_date/\" + wanted + \".json\")\n",
    "    city_taxes_by_date[wanted] = sum(df[\"tax_NYC_sales\"]) + sum(df[\"tax_hotel_occupancy\"])\n",
    "    state_taxes_by_date[wanted] = sum(df[\"tax_javits\"]) + sum(df[\"tax_mctd\"]) + sum(df[\"tax_state_sales\"])"
   ]
  },
  {
   "cell_type": "code",
   "execution_count": 34,
   "metadata": {
    "collapsed": false
   },
   "outputs": [],
   "source": [
    "# for missing files, get the values around them\n",
    "for date in missing_months_dict.keys():\n",
    "    city_taxes_by_date[date] = 0.5*(city_taxes_by_date[missing_months_dict[date][0]] + city_taxes_by_date[missing_months_dict[date][1]])\n",
    "    state_taxes_by_date[date] = 0.5*(state_taxes_by_date[missing_months_dict[date][0]] + state_taxes_by_date[missing_months_dict[date][1]])\n",
    "    \n",
    "# write results to csv\n",
    "with open(\"hi.csv\", \"w\") as f:\n",
    "    f.write(\"date, city, state\\n\")\n",
    "    for date in sorted(city_taxes_by_date.keys()):\n",
    "        f.write(date+ \",\" +str(city_taxes_by_date[date])+ \",\" + str(state_taxes_by_date[date]) + \"\\n\")\n",
    "f.close()"
   ]
  },
  {
   "cell_type": "code",
   "execution_count": 42,
   "metadata": {
    "collapsed": false
   },
   "outputs": [],
   "source": []
  },
  {
   "cell_type": "code",
   "execution_count": 80,
   "metadata": {
    "collapsed": false
   },
   "outputs": [],
   "source": [
    "dfiles = [x for x in os.listdir(\"data/json_files_by_date/\") if \"-\" in x]"
   ]
  },
  {
   "cell_type": "code",
   "execution_count": 48,
   "metadata": {
    "collapsed": false
   },
   "outputs": [],
   "source": [
    "thing = pd.read_json(\"data/json_files_by_date/2015-03-01.json\")"
   ]
  },
  {
   "cell_type": "code",
   "execution_count": 50,
   "metadata": {
    "collapsed": false
   },
   "outputs": [
    {
     "data": {
      "text/plain": [
       "Index([u'accommodates', u'bathrooms', u'bedrooms', u'borough',\n",
       "       u'calculated_host_listings_count', u'collected', u'date', u'host_id',\n",
       "       u'host_location', u'illegal', u'latitude', u'longitude', u'min_stay',\n",
       "       u'neighborhood', u'num_reviews', u'price', u'property_type', u'rating',\n",
       "       u'room_id', u'room_type', u'source', u'tax_NYC_sales',\n",
       "       u'tax_hotel_occupancy', u'tax_javits', u'tax_mctd', u'tax_state_sales',\n",
       "       u'tax_total'],\n",
       "      dtype='object')"
      ]
     },
     "execution_count": 50,
     "metadata": {},
     "output_type": "execute_result"
    }
   ],
   "source": [
    "thing.columns"
   ]
  },
  {
   "cell_type": "code",
   "execution_count": 53,
   "metadata": {
    "collapsed": false
   },
   "outputs": [
    {
     "data": {
      "text/plain": [
       "array([u'Entire home/apt', u'Private room', u'Shared room'], dtype=object)"
      ]
     },
     "execution_count": 53,
     "metadata": {},
     "output_type": "execute_result"
    }
   ],
   "source": [
    "thing[\"room_type\"].unique()"
   ]
  },
  {
   "cell_type": "code",
   "execution_count": 63,
   "metadata": {
    "collapsed": false
   },
   "outputs": [
    {
     "data": {
      "text/plain": [
       "1.0"
      ]
     },
     "execution_count": 63,
     "metadata": {},
     "output_type": "execute_result"
    }
   ],
   "source": [
    "len(thing[thing['illegal'] == thing['illegal']])/float(len(thing))"
   ]
  },
  {
   "cell_type": "code",
   "execution_count": 86,
   "metadata": {
    "collapsed": false,
    "scrolled": true
   },
   "outputs": [],
   "source": [
    "cat_variables = [\"illegal\",\"room_type\"]\n",
    "cont_variables = [\"price\"]\n",
    "\n",
    "all_var_values = {}\n",
    "for var in cat_variables:\n",
    "    all_var_values[var] = set()\n",
    "\n"
   ]
  },
  {
   "cell_type": "code",
   "execution_count": 95,
   "metadata": {
    "collapsed": false
   },
   "outputs": [],
   "source": [
    "for fname in dfiles:\n",
    "    df = pd.read_json(\"data/json_files_by_date/\" + fname)\n",
    "    for var in cat_variables:\n",
    "        for item in df[var].unique():\n",
    "            all_var_values[var].add(item)"
   ]
  },
  {
   "cell_type": "code",
   "execution_count": 97,
   "metadata": {
    "collapsed": false
   },
   "outputs": [
    {
     "data": {
      "text/plain": [
       "set"
      ]
     },
     "execution_count": 97,
     "metadata": {},
     "output_type": "execute_result"
    }
   ],
   "source": [
    "type(all_var_values[\"illegal\"])"
   ]
  },
  {
   "cell_type": "code",
   "execution_count": 138,
   "metadata": {
    "collapsed": false
   },
   "outputs": [
    {
     "data": {
      "text/plain": [
       "'2015-01-01'"
      ]
     },
     "execution_count": 138,
     "metadata": {},
     "output_type": "execute_result"
    }
   ],
   "source": [
    "dfiles[0].split(\".\")[0]"
   ]
  },
  {
   "cell_type": "code",
   "execution_count": null,
   "metadata": {
    "collapsed": false
   },
   "outputs": [
    {
     "name": "stderr",
     "output_type": "stream",
     "text": [
      "/anaconda/envs/tensorflow/lib/python2.7/site-packages/ipykernel/__main__.py:14: UserWarning: Boolean Series key will be reindexed to match DataFrame index.\n",
      "/anaconda/envs/tensorflow/lib/python2.7/site-packages/ipykernel/__main__.py:15: UserWarning: Boolean Series key will be reindexed to match DataFrame index.\n",
      "/anaconda/envs/tensorflow/lib/python2.7/site-packages/ipykernel/__main__.py:16: UserWarning: Boolean Series key will be reindexed to match DataFrame index.\n",
      "/anaconda/envs/tensorflow/lib/python2.7/site-packages/ipykernel/__main__.py:17: UserWarning: Boolean Series key will be reindexed to match DataFrame index.\n"
     ]
    }
   ],
   "source": [
    "counts_by_date = {}\n",
    "for fname in dfiles:\n",
    "    df = pd.read_json(\"data/json_files_by_date/\" + fname)\n",
    "    \n",
    "    new_dict = {}\n",
    "    for var in cat_variables:\n",
    "        new_dict[var] = {}\n",
    "        for item in all_var_values[var]:\n",
    "            new_dict[var][item] = len(df[df[var] == item])\n",
    "\n",
    "    new_dict[\"total\"] = len(df)\n",
    "    new_dict[\"price\"] = {}\n",
    "    new_dict[\"price\"][0] = len(df[df[\"price\"] < 50])\n",
    "    new_dict[\"price\"][1] = len(df[df[\"price\"] >= 50][df[\"price\"] < 100])\n",
    "    new_dict[\"price\"][2] = len(df[df[\"price\"] >= 100][df[\"price\"] < 150])\n",
    "    new_dict[\"price\"][3] = len(df[df[\"price\"] >= 150][df[\"price\"] < 200])\n",
    "    new_dict[\"price\"][4] = len(df[df[\"price\"] >= 200][df[\"price\"] < 300])\n",
    "    new_dict[\"price\"][5] = len(df[df[\"price\"] >= 300])\n",
    "    \n",
    "    date = fname.split(\".\")[0]\n",
    "    counts_by_date[date] = new_dict"
   ]
  },
  {
   "cell_type": "code",
   "execution_count": 143,
   "metadata": {
    "collapsed": false
   },
   "outputs": [
    {
     "data": {
      "text/plain": [
       "{'2015-01-01': {'illegal': {0: 15227, 1: 24326},\n",
       "  'price': {0: 3160, 1: 13923, 2: 8609, 3: 6240, 4: 4745, 5: 2876},\n",
       "  'room_type': {u'Entire home/apt': 20306,\n",
       "   u'Private room': 17885,\n",
       "   u'Shared room': 1362}},\n",
       " '2015-03-01': {'illegal': {0: 8863, 1: 18238},\n",
       "  'price': {0: 1224, 1: 8307, 2: 6174, 3: 5108, 4: 3941, 5: 2347},\n",
       "  'room_type': {u'Entire home/apt': 15496,\n",
       "   u'Private room': 10792,\n",
       "   u'Shared room': 813}},\n",
       " '2015-04-01': {'illegal': {0: 9075, 1: 18336},\n",
       "  'price': {0: 1237, 1: 8270, 2: 6156, 3: 5303, 4: 4043, 5: 2402},\n",
       "  'room_type': {u'Entire home/apt': 15551,\n",
       "   u'Private room': 11007,\n",
       "   u'Shared room': 853}},\n",
       " '2015-05-01': {'illegal': {0: 9168, 1: 18151},\n",
       "  'price': {0: 1063, 1: 8236, 2: 6095, 3: 5325, 4: 4173, 5: 2427},\n",
       "  'room_type': {u'Entire home/apt': 15485,\n",
       "   u'Private room': 11108,\n",
       "   u'Shared room': 726}},\n",
       " '2015-06-01': {'illegal': {0: 9153, 1: 18316},\n",
       "  'price': {0: 936, 1: 8202, 2: 6163, 3: 5403, 4: 4327, 5: 2438},\n",
       "  'room_type': {u'Entire home/apt': 15700,\n",
       "   u'Private room': 11116,\n",
       "   u'Shared room': 653}},\n",
       " '2015-08-01': {'illegal': {0: 10630, 1: 19897},\n",
       "  'price': {0: 1263, 1: 9627, 2: 6912, 3: 5819, 4: 4419, 5: 2487},\n",
       "  'room_type': {u'Entire home/apt': 17128,\n",
       "   u'Private room': 12589,\n",
       "   u'Shared room': 810}},\n",
       " '2015-09-01': {'illegal': {0: 10722, 1: 19761},\n",
       "  'price': {0: 1307, 1: 9606, 2: 6860, 3: 5688, 4: 4513, 5: 2509},\n",
       "  'room_type': {u'Entire home/apt': 17026,\n",
       "   u'Private room': 12611,\n",
       "   u'Shared room': 846}},\n",
       " '2015-10-01': {'illegal': {0: 10694, 1: 19554},\n",
       "  'price': {0: 1297, 1: 9364, 2: 6673, 3: 5603, 4: 4697, 5: 2614},\n",
       "  'room_type': {u'Entire home/apt': 16937,\n",
       "   u'Private room': 12429,\n",
       "   u'Shared room': 882}},\n",
       " '2015-11-01': {'illegal': {0: 11112, 1: 20828},\n",
       "  'price': {0: 1415, 1: 9919, 2: 6995, 3: 5975, 4: 4885, 5: 2751},\n",
       "  'room_type': {u'Entire home/apt': 17898,\n",
       "   u'Private room': 13093,\n",
       "   u'Shared room': 949}},\n",
       " '2015-11-20': {'illegal': {0: 11723, 1: 21031},\n",
       "  'price': {0: 1690, 1: 10580, 2: 7190, 3: 5965, 4: 4712, 5: 2617},\n",
       "  'room_type': {u'Entire home/apt': 17780,\n",
       "   u'Private room': 14003,\n",
       "   u'Shared room': 971}},\n",
       " '2015-12-02': {'illegal': {0: 12231, 1: 22145},\n",
       "  'price': {0: 1961, 1: 11070, 2: 7569, 3: 6124, 4: 4989, 5: 2663},\n",
       "  'room_type': {u'Entire home/apt': 18786,\n",
       "   u'Private room': 14570,\n",
       "   u'Shared room': 1020}},\n",
       " '2016-01-01': {'illegal': {0: 13407, 1: 22776},\n",
       "  'price': {0: 2493, 1: 12041, 2: 7960, 3: 6200, 4: 4845, 5: 2644},\n",
       "  'room_type': {u'Entire home/apt': 19662,\n",
       "   u'Private room': 15404,\n",
       "   u'Shared room': 1117}},\n",
       " '2016-02-02': {'illegal': {0: 13825, 1: 22132},\n",
       "  'price': {0: 2841, 1: 12303, 2: 7849, 3: 5856, 4: 4520, 5: 2588},\n",
       "  'room_type': {u'Entire home/apt': 19267,\n",
       "   u'Private room': 15576,\n",
       "   u'Shared room': 1114}},\n",
       " '2016-04-03': {'illegal': {0: 13166, 1: 19664},\n",
       "  'price': {0: 2601, 1: 11389, 2: 7122, 3: 5340, 4: 4054, 5: 2324},\n",
       "  'room_type': {u'Entire home/apt': 17158,\n",
       "   u'Private room': 14581,\n",
       "   u'Shared room': 1091}},\n",
       " '2016-05-02': {'illegal': {0: 12319, 1: 20256},\n",
       "  'price': {0: 2483, 1: 11241, 2: 7127, 3: 5311, 4: 4060, 5: 2353},\n",
       "  'room_type': {u'Entire home/apt': 17073,\n",
       "   u'Private room': 14456,\n",
       "   u'Shared room': 1046}},\n",
       " '2016-06-02': {'illegal': {0: 13705, 1: 22903},\n",
       "  'price': {0: 2783, 1: 12732, 2: 8004, 3: 5908, 4: 4512, 5: 2669},\n",
       "  'room_type': {u'Entire home/apt': 19072,\n",
       "   u'Private room': 16442,\n",
       "   u'Shared room': 1094}},\n",
       " '2016-07-02': {'illegal': {0: 14570, 1: 24240},\n",
       "  'price': {0: 3039, 1: 13797, 2: 8398, 3: 6239, 4: 4617, 5: 2720},\n",
       "  'room_type': {u'Entire home/apt': 19994,\n",
       "   u'Private room': 17589,\n",
       "   u'Shared room': 1227}},\n",
       " '2016-10-01': {'illegal': {0: 15227, 1: 24326},\n",
       "  'price': {0: 3160, 1: 13923, 2: 8609, 3: 6240, 4: 4745, 5: 2876},\n",
       "  'room_type': {u'Entire home/apt': 20306,\n",
       "   u'Private room': 17885,\n",
       "   u'Shared room': 1362}}}"
      ]
     },
     "execution_count": 143,
     "metadata": {},
     "output_type": "execute_result"
    }
   ],
   "source": [
    "counts_by_date"
   ]
  },
  {
   "cell_type": "code",
   "execution_count": 132,
   "metadata": {
    "collapsed": true
   },
   "outputs": [],
   "source": [
    "blah = {}\n",
    "blah[\"hi\"] = new_dict"
   ]
  },
  {
   "cell_type": "code",
   "execution_count": null,
   "metadata": {
    "collapsed": true
   },
   "outputs": [],
   "source": []
  },
  {
   "cell_type": "code",
   "execution_count": null,
   "metadata": {
    "collapsed": true
   },
   "outputs": [],
   "source": []
  },
  {
   "cell_type": "code",
   "execution_count": 128,
   "metadata": {
    "collapsed": false
   },
   "outputs": [
    {
     "name": "stderr",
     "output_type": "stream",
     "text": [
      "/anaconda/envs/tensorflow/lib/python2.7/site-packages/ipykernel/__main__.py:5: UserWarning: Boolean Series key will be reindexed to match DataFrame index.\n",
      "/anaconda/envs/tensorflow/lib/python2.7/site-packages/ipykernel/__main__.py:6: UserWarning: Boolean Series key will be reindexed to match DataFrame index.\n",
      "/anaconda/envs/tensorflow/lib/python2.7/site-packages/ipykernel/__main__.py:7: UserWarning: Boolean Series key will be reindexed to match DataFrame index.\n",
      "/anaconda/envs/tensorflow/lib/python2.7/site-packages/ipykernel/__main__.py:8: UserWarning: Boolean Series key will be reindexed to match DataFrame index.\n"
     ]
    },
    {
     "name": "stdout",
     "output_type": "stream",
     "text": [
      "0 0.0798928020631\n",
      "1 0.352008697191\n",
      "2 0.217657320557\n",
      "3 0.157763001542\n",
      "4 0.119965615756\n",
      "5 0.0727125628903\n",
      "0 0.045164385078\n",
      "1 0.306520054611\n",
      "2 0.227814471791\n",
      "3 0.188480129885\n",
      "4 0.145418988229\n",
      "5 0.086601970407\n",
      "0 0.045127868374\n",
      "1 0.301703695597\n",
      "2 0.224581372442\n",
      "3 0.193462478567\n",
      "4 0.147495530991\n",
      "5 0.0876290540294\n",
      "0 0.0389106482668\n",
      "1 0.301475163805\n",
      "2 0.223104798858\n",
      "3 0.194919286943\n",
      "4 0.152750832754\n",
      "5 0.088839269373\n",
      "0 0.0340747752011\n",
      "1 0.298591139102\n",
      "2 0.224362008082\n",
      "3 0.196694455568\n",
      "4 0.157523025957\n",
      "5 0.0887545960901\n",
      "0 0.0413732106005\n",
      "1 0.315360172962\n",
      "2 0.22642251122\n",
      "3 0.190618141318\n",
      "4 0.144757100272\n",
      "5 0.0814688636289\n",
      "0 0.0428763573139\n",
      "1 0.315126463931\n",
      "2 0.22504346685\n",
      "3 0.186595807499\n",
      "4 0.148049732638\n",
      "5 0.0823081717679\n",
      "0 0.0428788680243\n",
      "1 0.309574186723\n",
      "2 0.220609627083\n",
      "3 0.185235387464\n",
      "4 0.155282993917\n",
      "5 0.0864189367892\n",
      "0 0.0443018159048\n",
      "1 0.310551033187\n",
      "2 0.219004383219\n",
      "3 0.187069505322\n",
      "4 0.152943018159\n",
      "5 0.0861302442079\n",
      "0 0.0515967515418\n",
      "1 0.323013983025\n",
      "2 0.219515173719\n",
      "3 0.182115161507\n",
      "4 0.143860291873\n",
      "5 0.0798986383342\n",
      "0 0.0570456132185\n",
      "1 0.322026995578\n",
      "2 0.220182685595\n",
      "3 0.178147544799\n",
      "4 0.145130323481\n",
      "5 0.0774668373284\n",
      "0 0.0688997595556\n",
      "1 0.332780587569\n",
      "2 0.219992814305\n",
      "3 0.171351187022\n",
      "4 0.133902661471\n",
      "5 0.0730729900782\n",
      "0 0.0790110409656\n",
      "1 0.342158689546\n",
      "2 0.218288511277\n",
      "3 0.162861195317\n",
      "4 0.125705704035\n",
      "5 0.0719748588592\n",
      "0 0.0792263173926\n",
      "1 0.346908315565\n",
      "2 0.216935729516\n",
      "3 0.162656107219\n",
      "4 0.123484617728\n",
      "5 0.07078891258\n",
      "0 0.0762240982348\n",
      "1 0.345080583269\n",
      "2 0.218787413661\n",
      "3 0.163039140445\n",
      "4 0.124635456639\n",
      "5 0.0722333077513\n",
      "0 0.0760216346154\n",
      "1 0.347792832168\n",
      "2 0.218640734266\n",
      "3 0.16138548951\n",
      "4 0.123251748252\n",
      "5 0.0729075611888\n",
      "0 0.0783045606802\n",
      "1 0.355501159495\n",
      "2 0.216387528987\n",
      "3 0.160757536717\n",
      "4 0.118964184489\n",
      "5 0.0700850296315\n",
      "0 0.0798928020631\n",
      "1 0.352008697191\n",
      "2 0.217657320557\n",
      "3 0.157763001542\n",
      "4 0.119965615756\n",
      "5 0.0727125628903\n"
     ]
    }
   ],
   "source": [
    "for fname in dfiles:\n",
    "    df = pd.read_json(\"data/json_files_by_date/\" + fname)\n",
    "    new_dict[\"price\"] = {}\n",
    "    new_dict[\"price\"][0] = len(df[df[\"price\"] < 50])\n",
    "    new_dict[\"price\"][1] = len(df[df[\"price\"] >= 50][df[\"price\"] < 100])\n",
    "    new_dict[\"price\"][2] = len(df[df[\"price\"] >= 100][df[\"price\"] < 150])\n",
    "    new_dict[\"price\"][3] = len(df[df[\"price\"] >= 150][df[\"price\"] < 200])\n",
    "    new_dict[\"price\"][4] = len(df[df[\"price\"] >= 200][df[\"price\"] < 300])\n",
    "    new_dict[\"price\"][5] = len(df[df[\"price\"] >= 300])\n",
    "    \n",
    "    for key in sorted(new_dict[\"price\"].keys()):\n",
    "        print key, new_dict[\"price\"][key]/float(len(df))"
   ]
  },
  {
   "cell_type": "markdown",
   "metadata": {},
   "source": [
    "0-50        4-8%\n",
    "50-100      30-35%\n",
    "100-150     20-22%\n",
    "150-200     15-20%\n",
    "200-250     7-10%\n",
    "250-300     4-6%\n",
    "300-350     2-3%     \n",
    "350+        4-8%"
   ]
  },
  {
   "cell_type": "code",
   "execution_count": 123,
   "metadata": {
    "collapsed": false
   },
   "outputs": [
    {
     "name": "stdout",
     "output_type": "stream",
     "text": [
      "350 1701\n",
      "(0, 50) 1224\n",
      "(50, 100) 8307\n",
      "(100, 150) 6174\n",
      "(150, 200) 5108\n",
      "(200, 250) 2426\n",
      "(250, 300) 1515\n",
      "(300, 350) 646\n"
     ]
    }
   ],
   "source": [
    "for key in sorted(new_dict[\"price\"].keys()):\n",
    "    print key, new_dict[\"price\"][key]"
   ]
  },
  {
   "cell_type": "code",
   "execution_count": 120,
   "metadata": {
    "collapsed": false
   },
   "outputs": [
    {
     "data": {
      "text/plain": [
       "1224"
      ]
     },
     "execution_count": 120,
     "metadata": {},
     "output_type": "execute_result"
    }
   ],
   "source": [
    "new_dict[\"price\"][0,50]"
   ]
  },
  {
   "cell_type": "code",
   "execution_count": 101,
   "metadata": {
    "collapsed": false,
    "scrolled": true
   },
   "outputs": [
    {
     "data": {
      "text/plain": [
       "{'illegal': {0: 8863, 1: 18238},\n",
       " 'room_type': {u'Entire home/apt': 15496,\n",
       "  u'Private room': 10792,\n",
       "  u'Shared room': 813}}"
      ]
     },
     "execution_count": 101,
     "metadata": {},
     "output_type": "execute_result"
    }
   ],
   "source": [
    "new_dict"
   ]
  },
  {
   "cell_type": "code",
   "execution_count": 102,
   "metadata": {
    "collapsed": false
   },
   "outputs": [
    {
     "data": {
      "text/plain": [
       "array([218, 141, 269, ..., 150, 800,  86])"
      ]
     },
     "execution_count": 102,
     "metadata": {},
     "output_type": "execute_result"
    }
   ],
   "source": [
    "thing[\"price\"].as_matrix()"
   ]
  },
  {
   "cell_type": "code",
   "execution_count": 110,
   "metadata": {
    "collapsed": false
   },
   "outputs": [
    {
     "data": {
      "text/plain": [
       "(array([  1.00000000e+00,   1.03000000e+02,   6.24000000e+02,\n",
       "          1.72200000e+03,   2.32600000e+03,   2.88400000e+03,\n",
       "          3.26500000e+03,   1.29600000e+03,   2.08100000e+03,\n",
       "          1.40300000e+03,   2.16400000e+03,   1.37100000e+03,\n",
       "          9.06000000e+02,   1.76200000e+03,   4.36000000e+02,\n",
       "          6.20000000e+02,   1.05100000e+03,   1.54000000e+02,\n",
       "          2.87000000e+02,   2.98000000e+02,   4.26000000e+02,\n",
       "          1.27000000e+02,   3.40000000e+01,   3.00000000e+02,\n",
       "          3.20000000e+01,   1.03000000e+02,   2.52000000e+02,\n",
       "          1.70000000e+01,   4.00000000e+01,   2.90000000e+01,\n",
       "          9.30000000e+01,   2.80000000e+01,   9.00000000e+00,\n",
       "          1.77000000e+02,   1.00000000e+01,   1.20000000e+01,\n",
       "          6.50000000e+01,   3.00000000e+00,   1.70000000e+01,\n",
       "          8.70000000e+01]),\n",
       " array([   0.,   15.,   30.,   45.,   60.,   75.,   90.,  105.,  120.,\n",
       "         135.,  150.,  165.,  180.,  195.,  210.,  225.,  240.,  255.,\n",
       "         270.,  285.,  300.,  315.,  330.,  345.,  360.,  375.,  390.,\n",
       "         405.,  420.,  435.,  450.,  465.,  480.,  495.,  510.,  525.,\n",
       "         540.,  555.,  570.,  585.,  600.]),\n",
       " <a list of 40 Patch objects>)"
      ]
     },
     "execution_count": 110,
     "metadata": {},
     "output_type": "execute_result"
    },
    {
     "data": {
      "image/png": "[encoded data removed]",
      "text/plain": [
       "<matplotlib.figure.Figure at 0x114d8f490>"
      ]
     },
     "metadata": {},
     "output_type": "display_data"
    }
   ],
   "source": [
    "plt.hist(thing[\"price\"].as_matrix(), bins=40, range=(0,600))"
   ]
  },
  {
   "cell_type": "code",
   "execution_count": null,
   "metadata": {
    "collapsed": true
   },
   "outputs": [],
   "source": [
    "\n",
    "0-49\n",
    "50-99\n",
    "100-149\n",
    "150-199\n",
    "200-249\n",
    "250-299\n",
    "300+"
   ]
  },
  {
   "cell_type": "code",
   "execution_count": 116,
   "metadata": {
    "collapsed": false
   },
   "outputs": [
    {
     "name": "stderr",
     "output_type": "stream",
     "text": [
      "/anaconda/envs/tensorflow/lib/python2.7/site-packages/ipykernel/__main__.py:1: UserWarning: Boolean Series key will be reindexed to match DataFrame index.\n",
      "  if __name__ == '__main__':\n"
     ]
    },
    {
     "data": {
      "text/plain": [
       "4        90\n",
       "6        89\n",
       "7        99\n",
       "16       70\n",
       "19       94\n",
       "24       50\n",
       "26       75\n",
       "28       85\n",
       "29       79\n",
       "36       54\n",
       "42       80\n",
       "46       99\n",
       "52       85\n",
       "53       65\n",
       "55       80\n",
       "59       75\n",
       "62       50\n",
       "64       85\n",
       "66       89\n",
       "71       95\n",
       "72       80\n",
       "73       90\n",
       "79       50\n",
       "88       75\n",
       "90       95\n",
       "91       75\n",
       "97       79\n",
       "105      99\n",
       "109      55\n",
       "114      90\n",
       "         ..\n",
       "27024    70\n",
       "27025    55\n",
       "27026    60\n",
       "27028    75\n",
       "27032    75\n",
       "27033    85\n",
       "27037    50\n",
       "27041    68\n",
       "27042    85\n",
       "27047    75\n",
       "27050    80\n",
       "27058    50\n",
       "27059    50\n",
       "27061    98\n",
       "27062    50\n",
       "27063    50\n",
       "27064    59\n",
       "27065    80\n",
       "27066    79\n",
       "27067    89\n",
       "27074    90\n",
       "27076    75\n",
       "27077    95\n",
       "27080    95\n",
       "27082    89\n",
       "27085    80\n",
       "27089    75\n",
       "27090    69\n",
       "27094    60\n",
       "27100    86\n",
       "Name: price, dtype: int64"
      ]
     },
     "execution_count": 116,
     "metadata": {},
     "output_type": "execute_result"
    }
   ],
   "source": []
  },
  {
   "cell_type": "code",
   "execution_count": 117,
   "metadata": {
    "collapsed": true
   },
   "outputs": [],
   "source": [
    "df = thing"
   ]
  },
  {
   "cell_type": "code",
   "execution_count": 112,
   "metadata": {
    "collapsed": false
   },
   "outputs": [
    {
     "data": {
      "text/plain": [
       "74       47\n",
       "145      35\n",
       "189      40\n",
       "236      30\n",
       "259      45\n",
       "278      40\n",
       "296      38\n",
       "300      49\n",
       "303      35\n",
       "317      40\n",
       "331      33\n",
       "338      49\n",
       "363      40\n",
       "403      39\n",
       "442      45\n",
       "444      45\n",
       "455      45\n",
       "463      35\n",
       "472      40\n",
       "480      45\n",
       "489      49\n",
       "511      40\n",
       "513      45\n",
       "516      45\n",
       "532      45\n",
       "538      49\n",
       "548      45\n",
       "572      49\n",
       "593      45\n",
       "607      33\n",
       "         ..\n",
       "25699    30\n",
       "25811    39\n",
       "25820    47\n",
       "25863    45\n",
       "25893    40\n",
       "25943    41\n",
       "25956    35\n",
       "25959    39\n",
       "25960    45\n",
       "25961    35\n",
       "25964    45\n",
       "25965    29\n",
       "26074    40\n",
       "26075    45\n",
       "26132    40\n",
       "26175    45\n",
       "26207    43\n",
       "26304    39\n",
       "26446    35\n",
       "26564    43\n",
       "26573    39\n",
       "26579    40\n",
       "26607    40\n",
       "26613    45\n",
       "26695    39\n",
       "26830    45\n",
       "26853    48\n",
       "26854    40\n",
       "26926    37\n",
       "26932    40\n",
       "Name: price, dtype: int64"
      ]
     },
     "execution_count": 112,
     "metadata": {},
     "output_type": "execute_result"
    }
   ],
   "source": [
    "\n",
    "\n"
   ]
  },
  {
   "cell_type": "code",
   "execution_count": null,
   "metadata": {
    "collapsed": true
   },
   "outputs": [],
   "source": []
  }
 ],
 "metadata": {
  "kernelspec": {
   "display_name": "Python 2",
   "language": "python",
   "name": "python2"
  },
  "language_info": {
   "codemirror_mode": {
    "name": "ipython",
    "version": 2
   },
   "file_extension": ".py",
   "mimetype": "text/x-python",
   "name": "python",
   "nbconvert_exporter": "python",
   "pygments_lexer": "ipython2",
   "version": "2.7.12"
  }
 },
 "nbformat": 4,
 "nbformat_minor": 0
}
