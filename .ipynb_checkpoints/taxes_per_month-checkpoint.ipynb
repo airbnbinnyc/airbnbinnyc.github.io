{
 "cells": [
  {
   "cell_type": "code",
   "execution_count": 5,
   "metadata": {
    "collapsed": true
   },
   "outputs": [],
   "source": [
    "import sys\n",
    "sys.path.append(\"/anaconda/lib/python2.7/site-packages\")\n",
    "\n",
    "import numpy as np\n",
    "import pandas as pd\n",
    "import os\n",
    "import matplotlib\n",
    "import matplotlib.pyplot as plt\n",
    "from mpl_toolkits.mplot3d import Axes3D\n",
    "import matplotlib.cm as cmx\n",
    "import matplotlib.colors as colors\n",
    "%matplotlib inline"
   ]
  },
  {
   "cell_type": "markdown",
   "metadata": {},
   "source": [
    "#  CALCULATING TOTAL TAXES FOR 2015-16 FISCAL YEAR"
   ]
  },
  {
   "cell_type": "code",
   "execution_count": 1,
   "metadata": {
    "collapsed": true
   },
   "outputs": [],
   "source": [
    "# we have most jsons, so we can just look at their json files\n",
    "wanted_jsons = [\"2015-04-01\", \"2015-05-01\", \"2015-06-01\", \"2015-08-01\", \"2015-09-01\", \"2015-10-01\", \"2015-11-01\",\\\n",
    "                \"2015-12-02\", \"2016-01-01\", \"2016-02-02\", \"2016-04-03\", \"2016-05-02\", \"2016-06-02\"]\n",
    "\n",
    "# two files are missing, so we'll take the means of the months around them\n",
    "missing_months_dict = {}\n",
    "missing_months_dict[\"2015-07-01\"] = (\"2015-06-01\", \"2015-08-01\")\n",
    "missing_months_dict[\"2016-03-01\"] = (\"2016-02-02\", \"2016-04-03\")"
   ]
  },
  {
   "cell_type": "code",
   "execution_count": 33,
   "metadata": {
    "collapsed": false
   },
   "outputs": [],
   "source": [
    "# for the data we do have, sum over categories for city and state\n",
    "city_taxes_by_date = {}\n",
    "state_taxes_by_date = {}\n",
    "for wanted in wanted_jsons:\n",
    "    df = pd.read_json(\"data/json_files_by_date/\" + wanted + \".json\")\n",
    "    city_taxes_by_date[wanted] = sum(df[\"tax_NYC_sales\"]) + sum(df[\"tax_hotel_occupancy\"])\n",
    "    state_taxes_by_date[wanted] = sum(df[\"tax_javits\"]) + sum(df[\"tax_mctd\"]) + sum(df[\"tax_state_sales\"])"
   ]
  },
  {
   "cell_type": "code",
   "execution_count": 34,
   "metadata": {
    "collapsed": false
   },
   "outputs": [],
   "source": [
    "# for missing files, get the values around them\n",
    "for date in missing_months_dict.keys():\n",
    "    city_taxes_by_date[date] = 0.5*(city_taxes_by_date[missing_months_dict[date][0]] + city_taxes_by_date[missing_months_dict[date][1]])\n",
    "    state_taxes_by_date[date] = 0.5*(state_taxes_by_date[missing_months_dict[date][0]] + state_taxes_by_date[missing_months_dict[date][1]])\n",
    "    \n",
    "# write results to csv\n",
    "with open(\"hi.csv\", \"w\") as f:\n",
    "    f.write(\"date, city, state\\n\")\n",
    "    for date in sorted(city_taxes_by_date.keys()):\n",
    "        f.write(date+ \",\" +str(city_taxes_by_date[date])+ \",\" + str(state_taxes_by_date[date]) + \"\\n\")\n",
    "f.close()"
   ]
  },
  {
   "cell_type": "code",
   "execution_count": 42,
   "metadata": {
    "collapsed": false
   },
   "outputs": [],
   "source": []
  },
  {
   "cell_type": "code",
   "execution_count": 6,
   "metadata": {
    "collapsed": false
   },
   "outputs": [],
   "source": [
    "dfiles = [x for x in os.listdir(\"data/json_files_by_date/\") if \"-\" in x]"
   ]
  },
  {
   "cell_type": "code",
   "execution_count": 48,
   "metadata": {
    "collapsed": false
   },
   "outputs": [],
   "source": [
    "thing = pd.read_json(\"data/json_files_by_date/2015-03-01.json\")"
   ]
  },
  {
   "cell_type": "code",
   "execution_count": 50,
   "metadata": {
    "collapsed": false
   },
   "outputs": [
    {
     "data": {
      "text/plain": [
       "Index([u'accommodates', u'bathrooms', u'bedrooms', u'borough',\n",
       "       u'calculated_host_listings_count', u'collected', u'date', u'host_id',\n",
       "       u'host_location', u'illegal', u'latitude', u'longitude', u'min_stay',\n",
       "       u'neighborhood', u'num_reviews', u'price', u'property_type', u'rating',\n",
       "       u'room_id', u'room_type', u'source', u'tax_NYC_sales',\n",
       "       u'tax_hotel_occupancy', u'tax_javits', u'tax_mctd', u'tax_state_sales',\n",
       "       u'tax_total'],\n",
       "      dtype='object')"
      ]
     },
     "execution_count": 50,
     "metadata": {},
     "output_type": "execute_result"
    }
   ],
   "source": [
    "thing.columns"
   ]
  },
  {
   "cell_type": "code",
   "execution_count": 53,
   "metadata": {
    "collapsed": false
   },
   "outputs": [
    {
     "data": {
      "text/plain": [
       "array([u'Entire home/apt', u'Private room', u'Shared room'], dtype=object)"
      ]
     },
     "execution_count": 53,
     "metadata": {},
     "output_type": "execute_result"
    }
   ],
   "source": [
    "thing[\"room_type\"].unique()"
   ]
  },
  {
   "cell_type": "code",
   "execution_count": 63,
   "metadata": {
    "collapsed": false
   },
   "outputs": [
    {
     "data": {
      "text/plain": [
       "1.0"
      ]
     },
     "execution_count": 63,
     "metadata": {},
     "output_type": "execute_result"
    }
   ],
   "source": [
    "len(thing[thing['illegal'] == thing['illegal']])/float(len(thing))"
   ]
  },
  {
   "cell_type": "code",
   "execution_count": 7,
   "metadata": {
    "collapsed": false,
    "scrolled": true
   },
   "outputs": [],
   "source": [
    "cat_variables = [\"illegal\",\"room_type\"]\n",
    "cont_variables = [\"price\"]\n",
    "\n",
    "all_var_values = {}\n",
    "for var in cat_variables:\n",
    "    all_var_values[var] = set()\n",
    "\n"
   ]
  },
  {
   "cell_type": "code",
   "execution_count": null,
   "metadata": {
    "collapsed": true
   },
   "outputs": [],
   "source": []
  },
  {
   "cell_type": "code",
   "execution_count": 9,
   "metadata": {
    "collapsed": false
   },
   "outputs": [],
   "source": [
    "for fname in dfiles:\n",
    "    df = pd.read_json(\"data/json_files_by_date/\" + fname)\n",
    "    for var in cat_variables:\n",
    "        for item in df[var].unique():\n",
    "            all_var_values[var].add(item)"
   ]
  },
  {
   "cell_type": "code",
   "execution_count": 18,
   "metadata": {
    "collapsed": false
   },
   "outputs": [
    {
     "name": "stdout",
     "output_type": "stream",
     "text": [
      "0 0\n",
      "1 1\n",
      "0 Entire home/apt\n",
      "1 Private room\n",
      "2 Shared room\n"
     ]
    }
   ],
   "source": [
    "for var in all_var_values.keys():\n",
    "    for idx,item in enumerate(sorted(all_var_values[var])):\n",
    "        print idx, item"
   ]
  },
  {
   "cell_type": "code",
   "execution_count": null,
   "metadata": {
    "collapsed": false
   },
   "outputs": [
    {
     "name": "stderr",
     "output_type": "stream",
     "text": [
      "/anaconda/envs/tensorflow/lib/python2.7/site-packages/ipykernel/__main__.py:12: UserWarning: Boolean Series key will be reindexed to match DataFrame index.\n",
      "/anaconda/envs/tensorflow/lib/python2.7/site-packages/ipykernel/__main__.py:13: UserWarning: Boolean Series key will be reindexed to match DataFrame index.\n",
      "/anaconda/envs/tensorflow/lib/python2.7/site-packages/ipykernel/__main__.py:14: UserWarning: Boolean Series key will be reindexed to match DataFrame index.\n",
      "/anaconda/envs/tensorflow/lib/python2.7/site-packages/ipykernel/__main__.py:15: UserWarning: Boolean Series key will be reindexed to match DataFrame index.\n"
     ]
    }
   ],
   "source": [
    "counts_by_date = {}\n",
    "for fname in dfiles:\n",
    "    df = pd.read_json(\"data/json_files_by_date/\" + fname)\n",
    "    \n",
    "    new_dict = {}\n",
    "    for var in cat_variables:\n",
    "        for idx,item in enumerate(sorted(all_var_values[var])):\n",
    "            new_dict[var+str(idx)] = len(df[df[var] == item])\n",
    "\n",
    "    new_dict[\"total\"] = len(df)\n",
    "    new_dict[\"price0\"]  = len(df[df[\"price\"] < 50])\n",
    "    new_dict[\"price1\"] = len(df[df[\"price\"] >= 50][df[\"price\"] < 100])\n",
    "    new_dict[\"price2\"] = len(df[df[\"price\"] >= 100][df[\"price\"] < 150])\n",
    "    new_dict[\"price3\"] = len(df[df[\"price\"] >= 150][df[\"price\"] < 200])\n",
    "    new_dict[\"price4\"] = len(df[df[\"price\"] >= 200][df[\"price\"] < 300])\n",
    "    new_dict[\"price5\"] = len(df[df[\"price\"] >= 300])\n",
    "    \n",
    "    date = fname.split(\".\")[0]\n",
    "    counts_by_date[date] = new_dict"
   ]
  },
  {
   "cell_type": "code",
   "execution_count": 21,
   "metadata": {
    "collapsed": false
   },
   "outputs": [
    {
     "data": {
      "text/plain": [
       "{'2015-01-01': {'illegal': {},\n",
       "  'illegal0': 15227,\n",
       "  'illegal1': 24326,\n",
       "  'price0': 3160,\n",
       "  'price1': 13923,\n",
       "  'price2': 8609,\n",
       "  'price3': 6240,\n",
       "  'price4': 4745,\n",
       "  'price5': 2876,\n",
       "  'room_type': {},\n",
       "  'room_type0': 20306,\n",
       "  'room_type1': 17885,\n",
       "  'room_type2': 1362,\n",
       "  'total': 39553},\n",
       " '2015-03-01': {'illegal': {},\n",
       "  'illegal0': 8863,\n",
       "  'illegal1': 18238,\n",
       "  'price0': 1224,\n",
       "  'price1': 8307,\n",
       "  'price2': 6174,\n",
       "  'price3': 5108,\n",
       "  'price4': 3941,\n",
       "  'price5': 2347,\n",
       "  'room_type': {},\n",
       "  'room_type0': 15496,\n",
       "  'room_type1': 10792,\n",
       "  'room_type2': 813,\n",
       "  'total': 27101},\n",
       " '2015-04-01': {'illegal': {},\n",
       "  'illegal0': 9075,\n",
       "  'illegal1': 18336,\n",
       "  'price0': 1237,\n",
       "  'price1': 8270,\n",
       "  'price2': 6156,\n",
       "  'price3': 5303,\n",
       "  'price4': 4043,\n",
       "  'price5': 2402,\n",
       "  'room_type': {},\n",
       "  'room_type0': 15551,\n",
       "  'room_type1': 11007,\n",
       "  'room_type2': 853,\n",
       "  'total': 27411},\n",
       " '2015-05-01': {'illegal': {},\n",
       "  'illegal0': 9168,\n",
       "  'illegal1': 18151,\n",
       "  'price0': 1063,\n",
       "  'price1': 8236,\n",
       "  'price2': 6095,\n",
       "  'price3': 5325,\n",
       "  'price4': 4173,\n",
       "  'price5': 2427,\n",
       "  'room_type': {},\n",
       "  'room_type0': 15485,\n",
       "  'room_type1': 11108,\n",
       "  'room_type2': 726,\n",
       "  'total': 27319},\n",
       " '2015-06-01': {'illegal': {},\n",
       "  'illegal0': 9153,\n",
       "  'illegal1': 18316,\n",
       "  'price0': 936,\n",
       "  'price1': 8202,\n",
       "  'price2': 6163,\n",
       "  'price3': 5403,\n",
       "  'price4': 4327,\n",
       "  'price5': 2438,\n",
       "  'room_type': {},\n",
       "  'room_type0': 15700,\n",
       "  'room_type1': 11116,\n",
       "  'room_type2': 653,\n",
       "  'total': 27469},\n",
       " '2015-08-01': {'illegal': {},\n",
       "  'illegal0': 10630,\n",
       "  'illegal1': 19897,\n",
       "  'price0': 1263,\n",
       "  'price1': 9627,\n",
       "  'price2': 6912,\n",
       "  'price3': 5819,\n",
       "  'price4': 4419,\n",
       "  'price5': 2487,\n",
       "  'room_type': {},\n",
       "  'room_type0': 17128,\n",
       "  'room_type1': 12589,\n",
       "  'room_type2': 810,\n",
       "  'total': 30527},\n",
       " '2015-09-01': {'illegal': {},\n",
       "  'illegal0': 10722,\n",
       "  'illegal1': 19761,\n",
       "  'price0': 1307,\n",
       "  'price1': 9606,\n",
       "  'price2': 6860,\n",
       "  'price3': 5688,\n",
       "  'price4': 4513,\n",
       "  'price5': 2509,\n",
       "  'room_type': {},\n",
       "  'room_type0': 17026,\n",
       "  'room_type1': 12611,\n",
       "  'room_type2': 846,\n",
       "  'total': 30483},\n",
       " '2015-10-01': {'illegal': {},\n",
       "  'illegal0': 10694,\n",
       "  'illegal1': 19554,\n",
       "  'price0': 1297,\n",
       "  'price1': 9364,\n",
       "  'price2': 6673,\n",
       "  'price3': 5603,\n",
       "  'price4': 4697,\n",
       "  'price5': 2614,\n",
       "  'room_type': {},\n",
       "  'room_type0': 16937,\n",
       "  'room_type1': 12429,\n",
       "  'room_type2': 882,\n",
       "  'total': 30248},\n",
       " '2015-11-01': {'illegal': {},\n",
       "  'illegal0': 11112,\n",
       "  'illegal1': 20828,\n",
       "  'price0': 1415,\n",
       "  'price1': 9919,\n",
       "  'price2': 6995,\n",
       "  'price3': 5975,\n",
       "  'price4': 4885,\n",
       "  'price5': 2751,\n",
       "  'room_type': {},\n",
       "  'room_type0': 17898,\n",
       "  'room_type1': 13093,\n",
       "  'room_type2': 949,\n",
       "  'total': 31940},\n",
       " '2015-11-20': {'illegal': {},\n",
       "  'illegal0': 11723,\n",
       "  'illegal1': 21031,\n",
       "  'price0': 1690,\n",
       "  'price1': 10580,\n",
       "  'price2': 7190,\n",
       "  'price3': 5965,\n",
       "  'price4': 4712,\n",
       "  'price5': 2617,\n",
       "  'room_type': {},\n",
       "  'room_type0': 17780,\n",
       "  'room_type1': 14003,\n",
       "  'room_type2': 971,\n",
       "  'total': 32754},\n",
       " '2015-12-02': {'illegal': {},\n",
       "  'illegal0': 12231,\n",
       "  'illegal1': 22145,\n",
       "  'price0': 1961,\n",
       "  'price1': 11070,\n",
       "  'price2': 7569,\n",
       "  'price3': 6124,\n",
       "  'price4': 4989,\n",
       "  'price5': 2663,\n",
       "  'room_type': {},\n",
       "  'room_type0': 18786,\n",
       "  'room_type1': 14570,\n",
       "  'room_type2': 1020,\n",
       "  'total': 34376},\n",
       " '2016-01-01': {'illegal': {},\n",
       "  'illegal0': 13407,\n",
       "  'illegal1': 22776,\n",
       "  'price0': 2493,\n",
       "  'price1': 12041,\n",
       "  'price2': 7960,\n",
       "  'price3': 6200,\n",
       "  'price4': 4845,\n",
       "  'price5': 2644,\n",
       "  'room_type': {},\n",
       "  'room_type0': 19662,\n",
       "  'room_type1': 15404,\n",
       "  'room_type2': 1117,\n",
       "  'total': 36183},\n",
       " '2016-02-02': {'illegal': {},\n",
       "  'illegal0': 13825,\n",
       "  'illegal1': 22132,\n",
       "  'price0': 2841,\n",
       "  'price1': 12303,\n",
       "  'price2': 7849,\n",
       "  'price3': 5856,\n",
       "  'price4': 4520,\n",
       "  'price5': 2588,\n",
       "  'room_type': {},\n",
       "  'room_type0': 19267,\n",
       "  'room_type1': 15576,\n",
       "  'room_type2': 1114,\n",
       "  'total': 35957},\n",
       " '2016-04-03': {'illegal': {},\n",
       "  'illegal0': 13166,\n",
       "  'illegal1': 19664,\n",
       "  'price0': 2601,\n",
       "  'price1': 11389,\n",
       "  'price2': 7122,\n",
       "  'price3': 5340,\n",
       "  'price4': 4054,\n",
       "  'price5': 2324,\n",
       "  'room_type': {},\n",
       "  'room_type0': 17158,\n",
       "  'room_type1': 14581,\n",
       "  'room_type2': 1091,\n",
       "  'total': 32830},\n",
       " '2016-05-02': {'illegal': {},\n",
       "  'illegal0': 12319,\n",
       "  'illegal1': 20256,\n",
       "  'price0': 2483,\n",
       "  'price1': 11241,\n",
       "  'price2': 7127,\n",
       "  'price3': 5311,\n",
       "  'price4': 4060,\n",
       "  'price5': 2353,\n",
       "  'room_type': {},\n",
       "  'room_type0': 17073,\n",
       "  'room_type1': 14456,\n",
       "  'room_type2': 1046,\n",
       "  'total': 32575},\n",
       " '2016-06-02': {'illegal': {},\n",
       "  'illegal0': 13705,\n",
       "  'illegal1': 22903,\n",
       "  'price0': 2783,\n",
       "  'price1': 12732,\n",
       "  'price2': 8004,\n",
       "  'price3': 5908,\n",
       "  'price4': 4512,\n",
       "  'price5': 2669,\n",
       "  'room_type': {},\n",
       "  'room_type0': 19072,\n",
       "  'room_type1': 16442,\n",
       "  'room_type2': 1094,\n",
       "  'total': 36608},\n",
       " '2016-07-02': {'illegal': {},\n",
       "  'illegal0': 14570,\n",
       "  'illegal1': 24240,\n",
       "  'price0': 3039,\n",
       "  'price1': 13797,\n",
       "  'price2': 8398,\n",
       "  'price3': 6239,\n",
       "  'price4': 4617,\n",
       "  'price5': 2720,\n",
       "  'room_type': {},\n",
       "  'room_type0': 19994,\n",
       "  'room_type1': 17589,\n",
       "  'room_type2': 1227,\n",
       "  'total': 38810},\n",
       " '2016-10-01': {'illegal': {},\n",
       "  'illegal0': 15227,\n",
       "  'illegal1': 24326,\n",
       "  'price0': 3160,\n",
       "  'price1': 13923,\n",
       "  'price2': 8609,\n",
       "  'price3': 6240,\n",
       "  'price4': 4745,\n",
       "  'price5': 2876,\n",
       "  'room_type': {},\n",
       "  'room_type0': 20306,\n",
       "  'room_type1': 17885,\n",
       "  'room_type2': 1362,\n",
       "  'total': 39553}}"
      ]
     },
     "execution_count": 21,
     "metadata": {},
     "output_type": "execute_result"
    }
   ],
   "source": [
    "counts_by_date"
   ]
  },
  {
   "cell_type": "code",
   "execution_count": null,
   "metadata": {
    "collapsed": true
   },
   "outputs": [],
   "source": []
  },
  {
   "cell_type": "code",
   "execution_count": null,
   "metadata": {
    "collapsed": true
   },
   "outputs": [],
   "source": []
  },
  {
   "cell_type": "code",
   "execution_count": 148,
   "metadata": {
    "collapsed": true
   },
   "outputs": [],
   "source": [
    "import json\n",
    "with open('category_counts.json', 'w') as fp:\n",
    "    json.dump(counts_by_date, fp)"
   ]
  },
  {
   "cell_type": "code",
   "execution_count": 150,
   "metadata": {
    "collapsed": false
   },
   "outputs": [
    {
     "data": {
      "text/plain": [
       "{'illegal': {0: 15227, 1: 24326},\n",
       " 'price': {0: 3160, 1: 13923, 2: 8609, 3: 6240, 4: 4745, 5: 2876},\n",
       " 'room_type': {u'Entire home/apt': 20306,\n",
       "  u'Private room': 17885,\n",
       "  u'Shared room': 1362},\n",
       " 'total': 39553}"
      ]
     },
     "execution_count": 150,
     "metadata": {},
     "output_type": "execute_result"
    }
   ],
   "source": [
    "counts_by_date['2015-01-01']"
   ]
  },
  {
   "cell_type": "code",
   "execution_count": null,
   "metadata": {
    "collapsed": true
   },
   "outputs": [],
   "source": []
  },
  {
   "cell_type": "code",
   "execution_count": null,
   "metadata": {
    "collapsed": true
   },
   "outputs": [],
   "source": []
  },
  {
   "cell_type": "code",
   "execution_count": null,
   "metadata": {
    "collapsed": true
   },
   "outputs": [],
   "source": []
  },
  {
   "cell_type": "code",
   "execution_count": 128,
   "metadata": {
    "collapsed": false
   },
   "outputs": [
    {
     "name": "stderr",
     "output_type": "stream",
     "text": [
      "/anaconda/envs/tensorflow/lib/python2.7/site-packages/ipykernel/__main__.py:5: UserWarning: Boolean Series key will be reindexed to match DataFrame index.\n",
      "/anaconda/envs/tensorflow/lib/python2.7/site-packages/ipykernel/__main__.py:6: UserWarning: Boolean Series key will be reindexed to match DataFrame index.\n",
      "/anaconda/envs/tensorflow/lib/python2.7/site-packages/ipykernel/__main__.py:7: UserWarning: Boolean Series key will be reindexed to match DataFrame index.\n",
      "/anaconda/envs/tensorflow/lib/python2.7/site-packages/ipykernel/__main__.py:8: UserWarning: Boolean Series key will be reindexed to match DataFrame index.\n"
     ]
    },
    {
     "name": "stdout",
     "output_type": "stream",
     "text": [
      "0 0.0798928020631\n",
      "1 0.352008697191\n",
      "2 0.217657320557\n",
      "3 0.157763001542\n",
      "4 0.119965615756\n",
      "5 0.0727125628903\n",
      "0 0.045164385078\n",
      "1 0.306520054611\n",
      "2 0.227814471791\n",
      "3 0.188480129885\n",
      "4 0.145418988229\n",
      "5 0.086601970407\n",
      "0 0.045127868374\n",
      "1 0.301703695597\n",
      "2 0.224581372442\n",
      "3 0.193462478567\n",
      "4 0.147495530991\n",
      "5 0.0876290540294\n",
      "0 0.0389106482668\n",
      "1 0.301475163805\n",
      "2 0.223104798858\n",
      "3 0.194919286943\n",
      "4 0.152750832754\n",
      "5 0.088839269373\n",
      "0 0.0340747752011\n",
      "1 0.298591139102\n",
      "2 0.224362008082\n",
      "3 0.196694455568\n",
      "4 0.157523025957\n",
      "5 0.0887545960901\n",
      "0 0.0413732106005\n",
      "1 0.315360172962\n",
      "2 0.22642251122\n",
      "3 0.190618141318\n",
      "4 0.144757100272\n",
      "5 0.0814688636289\n",
      "0 0.0428763573139\n",
      "1 0.315126463931\n",
      "2 0.22504346685\n",
      "3 0.186595807499\n",
      "4 0.148049732638\n",
      "5 0.0823081717679\n",
      "0 0.0428788680243\n",
      "1 0.309574186723\n",
      "2 0.220609627083\n",
      "3 0.185235387464\n",
      "4 0.155282993917\n",
      "5 0.0864189367892\n",
      "0 0.0443018159048\n",
      "1 0.310551033187\n",
      "2 0.219004383219\n",
      "3 0.187069505322\n",
      "4 0.152943018159\n",
      "5 0.0861302442079\n",
      "0 0.0515967515418\n",
      "1 0.323013983025\n",
      "2 0.219515173719\n",
      "3 0.182115161507\n",
      "4 0.143860291873\n",
      "5 0.0798986383342\n",
      "0 0.0570456132185\n",
      "1 0.322026995578\n",
      "2 0.220182685595\n",
      "3 0.178147544799\n",
      "4 0.145130323481\n",
      "5 0.0774668373284\n",
      "0 0.0688997595556\n",
      "1 0.332780587569\n",
      "2 0.219992814305\n",
      "3 0.171351187022\n",
      "4 0.133902661471\n",
      "5 0.0730729900782\n",
      "0 0.0790110409656\n",
      "1 0.342158689546\n",
      "2 0.218288511277\n",
      "3 0.162861195317\n",
      "4 0.125705704035\n",
      "5 0.0719748588592\n",
      "0 0.0792263173926\n",
      "1 0.346908315565\n",
      "2 0.216935729516\n",
      "3 0.162656107219\n",
      "4 0.123484617728\n",
      "5 0.07078891258\n",
      "0 0.0762240982348\n",
      "1 0.345080583269\n",
      "2 0.218787413661\n",
      "3 0.163039140445\n",
      "4 0.124635456639\n",
      "5 0.0722333077513\n",
      "0 0.0760216346154\n",
      "1 0.347792832168\n",
      "2 0.218640734266\n",
      "3 0.16138548951\n",
      "4 0.123251748252\n",
      "5 0.0729075611888\n",
      "0 0.0783045606802\n",
      "1 0.355501159495\n",
      "2 0.216387528987\n",
      "3 0.160757536717\n",
      "4 0.118964184489\n",
      "5 0.0700850296315\n",
      "0 0.0798928020631\n",
      "1 0.352008697191\n",
      "2 0.217657320557\n",
      "3 0.157763001542\n",
      "4 0.119965615756\n",
      "5 0.0727125628903\n"
     ]
    }
   ],
   "source": [
    "for fname in dfiles:\n",
    "    df = pd.read_json(\"data/json_files_by_date/\" + fname)\n",
    "    new_dict[\"price0\"] = len(df[df[\"price\"] < 50])\n",
    "    new_dict[\"price1\"] = len(df[df[\"price\"] >= 50][df[\"price\"] < 100])\n",
    "    new_dict[\"price2\"] = len(df[df[\"price\"] >= 100][df[\"price\"] < 150])\n",
    "    new_dict[\"price3\"] = len(df[df[\"price\"] >= 150][df[\"price\"] < 200])\n",
    "    new_dict[\"price4\"] = len(df[df[\"price\"] >= 200][df[\"price\"] < 300])\n",
    "    new_dict[\"price5\"] = len(df[df[\"price\"] >= 300])\n",
    "    \n",
    "    for key in sorted(new_dict[\"price\"].keys()):\n",
    "        print key, new_dict[\"price\"][key]/float(len(df))"
   ]
  },
  {
   "cell_type": "markdown",
   "metadata": {},
   "source": [
    "0-50        4-8%\n",
    "50-100      30-35%\n",
    "100-150     20-22%\n",
    "150-200     15-20%\n",
    "200-250     7-10%\n",
    "250-300     4-6%\n",
    "300-350     2-3%     \n",
    "350+        4-8%"
   ]
  },
  {
   "cell_type": "code",
   "execution_count": 123,
   "metadata": {
    "collapsed": false
   },
   "outputs": [
    {
     "name": "stdout",
     "output_type": "stream",
     "text": [
      "350 1701\n",
      "(0, 50) 1224\n",
      "(50, 100) 8307\n",
      "(100, 150) 6174\n",
      "(150, 200) 5108\n",
      "(200, 250) 2426\n",
      "(250, 300) 1515\n",
      "(300, 350) 646\n"
     ]
    }
   ],
   "source": [
    "for key in sorted(new_dict[\"price\"].keys()):\n",
    "    print key, new_dict[\"price\"][key]"
   ]
  },
  {
   "cell_type": "code",
   "execution_count": 120,
   "metadata": {
    "collapsed": false
   },
   "outputs": [
    {
     "data": {
      "text/plain": [
       "1224"
      ]
     },
     "execution_count": 120,
     "metadata": {},
     "output_type": "execute_result"
    }
   ],
   "source": [
    "new_dict[\"price\"][0,50]"
   ]
  },
  {
   "cell_type": "code",
   "execution_count": 101,
   "metadata": {
    "collapsed": false,
    "scrolled": true
   },
   "outputs": [
    {
     "data": {
      "text/plain": [
       "{'illegal': {0: 8863, 1: 18238},\n",
       " 'room_type': {u'Entire home/apt': 15496,\n",
       "  u'Private room': 10792,\n",
       "  u'Shared room': 813}}"
      ]
     },
     "execution_count": 101,
     "metadata": {},
     "output_type": "execute_result"
    }
   ],
   "source": [
    "new_dict"
   ]
  },
  {
   "cell_type": "code",
   "execution_count": null,
   "metadata": {
    "collapsed": true
   },
   "outputs": [],
   "source": []
  }
 ],
 "metadata": {
  "kernelspec": {
   "display_name": "Python 2",
   "language": "python",
   "name": "python2"
  },
  "language_info": {
   "codemirror_mode": {
    "name": "ipython",
    "version": 2
   },
   "file_extension": ".py",
   "mimetype": "text/x-python",
   "name": "python",
   "nbconvert_exporter": "python",
   "pygments_lexer": "ipython2",
   "version": "2.7.12"
  }
 },
 "nbformat": 4,
 "nbformat_minor": 0
}
